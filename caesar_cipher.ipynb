{
 "cells": [
  {
   "cell_type": "code",
   "execution_count": 1,
   "metadata": {},
   "outputs": [
    {
     "name": "stdout",
     "output_type": "stream",
     "text": [
      "Your encrypted output:  Ymnx nx f yjxy.  Udymts nx kzs.\n"
     ]
    }
   ],
   "source": [
    "#encrypt only\n",
    "encrypt_key = {\n",
    "    'A': 'F', 'B': 'G', 'C': 'H', 'D': 'I', 'E': 'J', 'F': 'K',\n",
    "    'G': 'L', 'H': 'M', 'I': 'N', 'J': 'O', 'K': 'P', 'L': 'Q',\n",
    "    'M': 'R', 'N': 'S', 'O': 'T', 'P': 'U', 'Q': 'V', 'R': 'W',\n",
    "    'S': 'X', 'T': 'Y', 'U': 'Z', 'V': 'A', 'W': 'B', 'X': 'C',\n",
    "    'Y': 'D', 'Z': 'E',\n",
    "    'a': 'f', 'b': 'g', 'c': 'h', 'd': 'i', 'e': 'j', 'f': 'k',\n",
    "    'g': 'l', 'h': 'm', 'i': 'n', 'j': 'o', 'k': 'p', 'l': 'q',\n",
    "    'm': 'r', 'n': 's', 'o': 't', 'p': 'u', 'q': 'v', 'r': 'w',\n",
    "    's': 'x', 't': 'y', 'u': 'z', 'v': 'a', 'w': 'b', 'x': 'c',\n",
    "    'y': 'd', 'z': 'e'\n",
    "}\n",
    "\n",
    "decrypted_input = input(\"Please enter a message to encrypt: \")\n",
    "encrypted_output = \"\"\n",
    "\n",
    "for char in decrypted_input:\n",
    "    if char in encrypt_key:\n",
    "        encrypted_output += encrypt_key[char]\n",
    "    else:\n",
    "        encrypted_output += char\n",
    "\n",
    "print(\"Your encrypted output: \", encrypted_output)\n"
   ]
  },
  {
   "cell_type": "code",
   "execution_count": 4,
   "metadata": {},
   "outputs": [
    {
     "name": "stdout",
     "output_type": "stream",
     "text": [
      "Your encrypted message:  vjku ku c vguv\n",
      "Your decrypted message:  this is a test\n"
     ]
    }
   ],
   "source": [
    "#Chris Lambert\n",
    "#Caesar Cipher\n",
    "#I had problems with this one!\n",
    "#There are a lot of ways to get this done but I wanted something more straightforward.\n",
    "\n",
    "\n",
    "\n",
    "# Define the encryption and decryption keys\n",
    "encrypt_key = {\n",
    "    'A': 'C', 'B': 'D', 'C': 'E', 'D': 'F', 'E': 'G', 'F': 'H',\n",
    "    'G': 'I', 'H': 'J', 'I': 'K', 'J': 'L', 'K': 'M', 'L': 'N',\n",
    "    'M': 'O', 'N': 'P', 'O': 'Q', 'P': 'R', 'Q': 'S', 'R': 'T',\n",
    "    'S': 'U', 'T': 'V', 'U': 'W', 'V': 'X', 'W': 'Y', 'X': 'Z',\n",
    "    'Y': 'A', 'Z': 'B',\n",
    "    'a': 'c', 'b': 'd', 'c': 'e', 'd': 'f', 'e': 'g', 'f': 'h',\n",
    "    'g': 'i', 'h': 'j', 'i': 'k', 'j': 'l', 'k': 'm', 'l': 'n',\n",
    "    'm': 'o', 'n': 'p', 'o': 'q', 'p': 'r', 'q': 's', 'r': 't',\n",
    "    's': 'u', 't': 'v', 'u': 'w', 'v': 'x', 'w': 'y', 'x': 'z',\n",
    "    'y': 'a', 'z': 'b'\n",
    "}\n",
    "\n",
    "decrypt_key = {\n",
    "    'C': 'A', 'D': 'B', 'E': 'C', 'F': 'D', 'G': 'E', 'H': 'F',\n",
    "    'I': 'G', 'J': 'H', 'K': 'I', 'L': 'J', 'M': 'K', 'N': 'L',\n",
    "    'O': 'M', 'P': 'N', 'Q': 'O', 'R': 'P', 'S': 'Q', 'T': 'R',\n",
    "    'U': 'S', 'V': 'T', 'W': 'U', 'X': 'V', 'Y': 'W', 'Z': 'X',\n",
    "    'A': 'Y', 'B': 'Z',\n",
    "    'c': 'a', 'd': 'b', 'e': 'c', 'f': 'd', 'g': 'e', 'h': 'f',\n",
    "    'i': 'g', 'j': 'h', 'k': 'i', 'l': 'j', 'm': 'k', 'n': 'l',\n",
    "    'o': 'm', 'p': 'n', 'q': 'o', 'r': 'p', 's': 'q', 't': 'r',\n",
    "    'u': 's', 'v': 't', 'w': 'u', 'x': 'v', 'y': 'w', 'z': 'x',\n",
    "    'a': 'y', 'b': 'z'\n",
    "}\n",
    "\n",
    "\n",
    "ed = input(\"Would you like to encrypt or decrypt a message (not case sensitive)? \")\n",
    "\n",
    "if ed.lower() == \"encrypt\":\n",
    "    decrypted_input = input(\"Please enter a message to encrypt: \")\n",
    "    encrypted_output = \"\"\n",
    "\n",
    "    for char in decrypted_input:\n",
    "        if char in encrypt_key:\n",
    "            encrypted_output += encrypt_key[char]\n",
    "        else:\n",
    "            encrypted_output += char\n",
    "\n",
    "    print(\"Your decrypted message: \", decrypted_input)\n",
    "    print(\"Your encrypted message: \", encrypted_output)\n",
    "\n",
    "elif ed.lower() == \"decrypt\":\n",
    "    encrypted_input = input(\"Please enter a message to decrypt: \")\n",
    "    decrypted_output = \"\"\n",
    "\n",
    "    for char in encrypted_input:\n",
    "        if char in decrypt_key:\n",
    "            decrypted_output += decrypt_key[char]\n",
    "        else:\n",
    "            decrypted_output += char\n",
    "    \n",
    "    print(\"Your encrypted message: \", encrypted_input)\n",
    "    print(\"Your decrypted message: \", decrypted_output)\n",
    "\n",
    "else:\n",
    "    print(\"Invalid option chosen. Please type 'encrypt' or 'decrypt'.  Input is forced into lower case and is not case sensitive.\")\n"
   ]
  },
  {
   "cell_type": "code",
   "execution_count": 8,
   "metadata": {},
   "outputs": [
    {
     "name": "stdout",
     "output_type": "stream",
     "text": [
      "Your encrypted message:  Ymnx nx f yjxy\n",
      "Your decrypted message:  This is a test\n"
     ]
    }
   ],
   "source": [
    "#This assignment mentions shift.  I need to figure this out.\n",
    "\n",
    "def create_shift_dict(shift):\n",
    "    alphabet = \"abcdefghijklmnopqrstuvwxyz\"\n",
    "    shifted_alphabet = alphabet[shift:] + alphabet[:shift]\n",
    "    return dict(zip(alphabet, shifted_alphabet)), dict(zip(shifted_alphabet, alphabet))\n",
    "\n",
    "encrypt_key, decrypt_key = create_shift_dict(5)\n",
    "\n",
    "ed = input(\"Would you like to encrypt or decrypt a message (not case sensitive)? \")\n",
    "\n",
    "if ed.lower() == \"encrypt\":\n",
    "    decrypted_input = input(\"Please enter a message to encrypt: \")\n",
    "    encrypted_output = \"\"\n",
    "\n",
    "    for char in decrypted_input:\n",
    "        lower_char = char.lower()\n",
    "        if lower_char in encrypt_key:\n",
    "            # Preserve the case of the original character\n",
    "            encrypted_char = encrypt_key[lower_char]\n",
    "            encrypted_output += encrypted_char.upper() if char.isupper() else encrypted_char\n",
    "        else:\n",
    "            encrypted_output += char\n",
    "\n",
    "    print(\"Your decrypted message: \", decrypted_input)\n",
    "    print(\"Your encrypted message: \", encrypted_output)\n",
    "\n",
    "elif ed.lower() == \"decrypt\":\n",
    "    encrypted_input = input(\"Please enter a message to decrypt: \")\n",
    "    decrypted_output = \"\"\n",
    "\n",
    "    for char in encrypted_input:\n",
    "        lower_char = char.lower()\n",
    "        if lower_char in decrypt_key:\n",
    "            # Preserve the case of the original character\n",
    "            decrypted_char = decrypt_key[lower_char]\n",
    "            decrypted_output += decrypted_char.upper() if char.isupper() else decrypted_char\n",
    "        else:\n",
    "            decrypted_output += char\n",
    "    \n",
    "    print(\"Your encrypted message: \", encrypted_input)\n",
    "    print(\"Your decrypted message: \", decrypted_output)\n",
    "\n",
    "else:\n",
    "    print(\"Invalid option chosen. Please type 'encrypt' or 'decrypt'. Input is forced into lower case and is not case sensitive.\")\n"
   ]
  }
 ],
 "metadata": {
  "kernelspec": {
   "display_name": "Python 3",
   "language": "python",
   "name": "python3"
  },
  "language_info": {
   "codemirror_mode": {
    "name": "ipython",
    "version": 3
   },
   "file_extension": ".py",
   "mimetype": "text/x-python",
   "name": "python",
   "nbconvert_exporter": "python",
   "pygments_lexer": "ipython3",
   "version": "3.11.2"
  }
 },
 "nbformat": 4,
 "nbformat_minor": 2
}
